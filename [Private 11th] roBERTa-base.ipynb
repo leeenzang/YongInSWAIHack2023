{
  "cells": [
    {
      "cell_type": "code",
      "execution_count": null,
      "metadata": {
        "colab": {
          "base_uri": "https://localhost:8080/"
        },
        "id": "NtozuQLFEP5H",
        "outputId": "2b771bc9-047f-43c5-d071-f5a7e48d5893"
      },
      "outputs": [
        {
          "name": "stdout",
          "output_type": "stream",
          "text": [
            "Requirement already satisfied: transformers in /usr/local/lib/python3.10/dist-packages (4.34.0)\n",
            "Requirement already satisfied: filelock in /usr/local/lib/python3.10/dist-packages (from transformers) (3.12.4)\n",
            "Requirement already satisfied: huggingface-hub<1.0,>=0.16.4 in /usr/local/lib/python3.10/dist-packages (from transformers) (0.17.3)\n",
            "Requirement already satisfied: numpy>=1.17 in /usr/local/lib/python3.10/dist-packages (from transformers) (1.23.5)\n",
            "Requirement already satisfied: packaging>=20.0 in /usr/local/lib/python3.10/dist-packages (from transformers) (23.2)\n",
            "Requirement already satisfied: pyyaml>=5.1 in /usr/local/lib/python3.10/dist-packages (from transformers) (6.0.1)\n",
            "Requirement already satisfied: regex!=2019.12.17 in /usr/local/lib/python3.10/dist-packages (from transformers) (2023.6.3)\n",
            "Requirement already satisfied: requests in /usr/local/lib/python3.10/dist-packages (from transformers) (2.31.0)\n",
            "Requirement already satisfied: tokenizers<0.15,>=0.14 in /usr/local/lib/python3.10/dist-packages (from transformers) (0.14.1)\n",
            "Requirement already satisfied: safetensors>=0.3.1 in /usr/local/lib/python3.10/dist-packages (from transformers) (0.4.0)\n",
            "Requirement already satisfied: tqdm>=4.27 in /usr/local/lib/python3.10/dist-packages (from transformers) (4.66.1)\n",
            "Requirement already satisfied: fsspec in /usr/local/lib/python3.10/dist-packages (from huggingface-hub<1.0,>=0.16.4->transformers) (2023.6.0)\n",
            "Requirement already satisfied: typing-extensions>=3.7.4.3 in /usr/local/lib/python3.10/dist-packages (from huggingface-hub<1.0,>=0.16.4->transformers) (4.5.0)\n",
            "Requirement already satisfied: charset-normalizer<4,>=2 in /usr/local/lib/python3.10/dist-packages (from requests->transformers) (3.3.0)\n",
            "Requirement already satisfied: idna<4,>=2.5 in /usr/local/lib/python3.10/dist-packages (from requests->transformers) (3.4)\n",
            "Requirement already satisfied: urllib3<3,>=1.21.1 in /usr/local/lib/python3.10/dist-packages (from requests->transformers) (2.0.6)\n",
            "Requirement already satisfied: certifi>=2017.4.17 in /usr/local/lib/python3.10/dist-packages (from requests->transformers) (2023.7.22)\n",
            "Drive already mounted at /content/drive; to attempt to forcibly remount, call drive.mount(\"/content/drive\", force_remount=True).\n"
          ]
        }
      ],
      "source": [
        "!pip install transformers\n",
        "import pandas as pd\n",
        "import numpy as np\n",
        "import urllib.request\n",
        "import os\n",
        "from tqdm import tqdm\n",
        "import tensorflow as tf\n",
        "from transformers import BertTokenizer, TFBertModel, BertTokenizerFast, TFBertForSequenceClassification, RobertaTokenizer, TFRobertaForSequenceClassification\n",
        "from tensorflow.keras.callbacks import EarlyStopping\n",
        "from sklearn.model_selection import train_test_split\n",
        "\n",
        "\n",
        "from google.colab import drive\n",
        "drive.mount('/content/drive')"
      ]
    },
    {
      "cell_type": "code",
      "execution_count": null,
      "metadata": {
        "colab": {
          "base_uri": "https://localhost:8080/"
        },
        "id": "Q3hgAOfvGFn1",
        "outputId": "7b06e08e-7bb1-4728-bcf5-bdf320a00e0b"
      },
      "outputs": [
        {
          "name": "stdout",
          "output_type": "stream",
          "text": [
            "훈련용 개수: 192000\n",
            "테스트용 개수: 48000\n"
          ]
        }
      ],
      "source": [
        "traindata = pd.read_csv('/content/train.csv')\n",
        "testdata = pd.read_csv('/content/test.csv')\n",
        "\n",
        "print(\"훈련용 개수:\", len(traindata))\n",
        "print(\"테스트용 개수:\", len(testdata))\n"
      ]
    },
    {
      "cell_type": "code",
      "execution_count": null,
      "metadata": {
        "colab": {
          "base_uri": "https://localhost:8080/"
        },
        "id": "MpPNGPJaG3OR",
        "outputId": "68971475-4ad2-4e9a-9a1b-3f3ba44e5070"
      },
      "outputs": [
        {
          "name": "stdout",
          "output_type": "stream",
          "text": [
            "훈련 데이터 수: 186983\n",
            "테스트 데이터 수: 48000\n"
          ]
        }
      ],
      "source": [
        "# 중복 데이터, 결측값 제거\n",
        "\n",
        "# text 열 중복 제거\n",
        "traindata.drop_duplicates(subset=['text'], inplace=True)\n",
        "\n",
        "# null 값 존재하는 행 제거\n",
        "traindata = traindata.dropna(how='any')\n",
        "testdata = testdata.dropna(how = 'any')\n",
        "print('훈련 데이터 수:', len(traindata))\n",
        "print('테스트 데이터 수:', len(testdata))\n"
      ]
    },
    {
      "cell_type": "code",
      "execution_count": null,
      "metadata": {
        "colab": {
          "base_uri": "https://localhost:8080/",
          "height": 92
        },
        "id": "Vze8nbIXHqev",
        "outputId": "899997fa-74c3-4f56-b51c-616203f52b35"
      },
      "outputs": [
        {
          "name": "stdout",
          "output_type": "stream",
          "text": [
            "[0, 605, 3277, 7, 213, 192, 2014, 7416, 53, 24, 12905, 29, 45, 816, 4558, 583, 259, 2, 1, 1, 1, 1, 1, 1, 1, 1, 1, 1, 1, 1, 1, 1, 1, 1, 1, 1, 1, 1, 1, 1, 1, 1, 1, 1, 1, 1, 1, 1, 1, 1, 1, 1, 1, 1, 1, 1, 1, 1, 1, 1, 1, 1, 1, 1, 1, 1, 1, 1, 1, 1, 1, 1, 1, 1, 1, 1, 1, 1, 1, 1, 1, 1, 1, 1, 1, 1, 1, 1, 1, 1, 1, 1, 1, 1, 1, 1, 1, 1, 1, 1, 1, 1, 1, 1, 1, 1, 1, 1, 1, 1, 1, 1, 1, 1, 1, 1, 1, 1, 1, 1, 1, 1, 1, 1, 1, 1, 1, 1, 1, 1, 1, 1, 1, 1, 1, 1, 1, 1, 1, 1, 1, 1, 1, 1, 1, 1, 1, 1, 1, 1, 1, 1, 1, 1, 1, 1, 1, 1, 1, 1, 1, 1, 1, 1, 1, 1, 1, 1, 1, 1, 1, 1, 1, 1, 1, 1, 1, 1, 1, 1, 1, 1, 1, 1, 1, 1, 1, 1, 1, 1, 1, 1, 1, 1, 1, 1, 1, 1, 1, 1, 1, 1, 1, 1, 1, 1, 1, 1, 1, 1, 1, 1, 1, 1, 1, 1, 1, 1, 1, 1, 1, 1, 1, 1, 1, 1, 1, 1, 1, 1, 1, 1, 1, 1, 1, 1, 1, 1, 1, 1, 1, 1, 1, 1, 1, 1, 1, 1, 1, 1, 1, 1, 1, 1, 1, 1, 1, 1, 1, 1, 1, 1, 1, 1, 1, 1, 1, 1, 1, 1, 1, 1, 1, 1, 1, 1, 1, 1, 1, 1, 1, 1, 1, 1, 1, 1, 1, 1, 1, 1, 1, 1, 1, 1, 1, 1, 1, 1, 1, 1, 1, 1, 1, 1, 1, 1, 1, 1, 1, 1, 1, 1, 1, 1, 1, 1, 1, 1, 1, 1, 1, 1, 1, 1, 1, 1, 1, 1, 1, 1, 1, 1, 1, 1, 1, 1, 1, 1, 1, 1, 1, 1, 1, 1, 1, 1, 1, 1, 1, 1, 1, 1, 1, 1, 1, 1, 1, 1, 1, 1, 1, 1, 1, 1, 1, 1, 1, 1]\n",
            "[1, 1, 1, 1, 1, 1, 1, 1, 1, 1, 1, 1, 1, 1, 1, 1, 1, 1, 0, 0, 0, 0, 0, 0, 0, 0, 0, 0, 0, 0, 0, 0, 0, 0, 0, 0, 0, 0, 0, 0, 0, 0, 0, 0, 0, 0, 0, 0, 0, 0, 0, 0, 0, 0, 0, 0, 0, 0, 0, 0, 0, 0, 0, 0, 0, 0, 0, 0, 0, 0, 0, 0, 0, 0, 0, 0, 0, 0, 0, 0, 0, 0, 0, 0, 0, 0, 0, 0, 0, 0, 0, 0, 0, 0, 0, 0, 0, 0, 0, 0, 0, 0, 0, 0, 0, 0, 0, 0, 0, 0, 0, 0, 0, 0, 0, 0, 0, 0, 0, 0, 0, 0, 0, 0, 0, 0, 0, 0, 0, 0, 0, 0, 0, 0, 0, 0, 0, 0, 0, 0, 0, 0, 0, 0, 0, 0, 0, 0, 0, 0, 0, 0, 0, 0, 0, 0, 0, 0, 0, 0, 0, 0, 0, 0, 0, 0, 0, 0, 0, 0, 0, 0, 0, 0, 0, 0, 0, 0, 0, 0, 0, 0, 0, 0, 0, 0, 0, 0, 0, 0, 0, 0, 0, 0, 0, 0, 0, 0, 0, 0, 0, 0, 0, 0, 0, 0, 0, 0, 0, 0, 0, 0, 0, 0, 0, 0, 0, 0, 0, 0, 0, 0, 0, 0, 0, 0, 0, 0, 0, 0, 0, 0, 0, 0, 0, 0, 0, 0, 0, 0, 0, 0, 0, 0, 0, 0, 0, 0, 0, 0, 0, 0, 0, 0, 0, 0, 0, 0, 0, 0, 0, 0, 0, 0, 0, 0, 0, 0, 0, 0, 0, 0, 0, 0, 0, 0, 0, 0, 0, 0, 0, 0, 0, 0, 0, 0, 0, 0, 0, 0, 0, 0, 0, 0, 0, 0, 0, 0, 0, 0, 0, 0, 0, 0, 0, 0, 0, 0, 0, 0, 0, 0, 0, 0, 0, 0, 0, 0, 0, 0, 0, 0, 0, 0, 0, 0, 0, 0, 0, 0, 0, 0, 0, 0, 0, 0, 0, 0, 0, 0, 0, 0, 0, 0, 0, 0, 0, 0, 0, 0, 0, 0, 0, 0, 0, 0, 0, 0, 0, 0, 0, 0, 0, 0, 0, 0, 0, 0]\n"
          ]
        },
        {
          "data": {
            "application/vnd.google.colaboratory.intrinsic+json": {
              "type": "string"
            },
            "text/plain": [
              "\"\\n# 소문자 변환 모델 토크나이저\\ntokenizer = BertTokenizer.from_pretrained('bert-base-uncased')\\nprint(tokenizer.tokenize())\\n\\nmodel. = TFBertModel.from_pretrained('bert-base-uncased', from_pt=True)\\n\""
            ]
          },
          "execution_count": 15,
          "metadata": {},
          "output_type": "execute_result"
        }
      ],
      "source": [
        "# 토크나이저 이용한 정수 인코딩\n",
        "tokenizer = RobertaTokenizer.from_pretrained('textattack/roberta-base-MNLI')\n",
        "\n",
        "X_train_list = traindata['text'].tolist()\n",
        "X_test_list = testdata['text'].tolist()\n",
        "y_train = traindata['sentiment'].tolist()\n",
        "\n",
        "# 훈련 데이터를 훈련 세트와 검증 세트로 분할\n",
        "train_texts, val_texts, train_labels, val_labels = train_test_split(X_train_list, y_train, test_size=.2)\n",
        "# 토크나이징과 데이터셋 준비\n",
        "train_encodings = tokenizer(train_texts, truncation=True, padding=True)\n",
        "val_encodings = tokenizer(val_texts, truncation=True, padding=True)\n",
        "\n",
        "# 토큰화된 첫 번째 결과 출력\n",
        "print(train_encodings['input_ids'][0]) # 정수 인코딩 결과\n",
        "print(train_encodings['attention_mask'][0]) # 어텐션 마스크\n",
        "\n",
        "\n",
        "\"\"\"\n",
        "# 소문자 변환 모델 토크나이저\n",
        "tokenizer = BertTokenizer.from_pretrained('bert-base-uncased')\n",
        "print(tokenizer.tokenize())\n",
        "\n",
        "model. = TFBertModel.from_pretrained('bert-base-uncased', from_pt=True)\n",
        "\"\"\""
      ]
    },
    {
      "cell_type": "code",
      "execution_count": null,
      "metadata": {
        "colab": {
          "base_uri": "https://localhost:8080/"
        },
        "id": "w51nUeOYSuJZ",
        "outputId": "486a59d5-db49-453b-f684-75db32364db1"
      },
      "outputs": [
        {
          "name": "stderr",
          "output_type": "stream",
          "text": [
            "All PyTorch model weights were used when initializing TFRobertaForSequenceClassification.\n",
            "\n",
            "All the weights of TFRobertaForSequenceClassification were initialized from the PyTorch model.\n",
            "If your task is similar to the task the model of the checkpoint was trained on, you can already use TFRobertaForSequenceClassification for predictions without further training.\n"
          ]
        }
      ],
      "source": [
        "# 데이터셋 생성 및 모델 학습\n",
        "\n",
        "# 데이터를 텐서플로우의 데이터셋 형태로 변환\n",
        "train_dataset = tf.data.Dataset.from_tensor_slices((\n",
        "    dict(train_encodings),\n",
        "    train_labels\n",
        "))\n",
        "val_dataset = tf.data.Dataset.from_tensor_slices((\n",
        "    dict(val_encodings),\n",
        "    val_labels\n",
        "))\n",
        "\n",
        "model = TFRobertaForSequenceClassification.from_pretrained(\n",
        "    \"textattack/roberta-base-MNLI\",\n",
        "    num_labels=3,\n",
        "    from_pt = True,\n",
        ")\n",
        "\n",
        "optimizer = tf.keras.optimizers.Adam(learning_rate=2e-5)\n",
        "\n",
        "test_encodings = tokenizer(X_test_list, truncation=True, padding=True)\n",
        "test_dataset = tf.data.Dataset.from_tensor_slices((dict(test_encodings)))\n"
      ]
    },
    {
      "cell_type": "code",
      "execution_count": null,
      "metadata": {
        "colab": {
          "base_uri": "https://localhost:8080/"
        },
        "id": "fHwtS2sDtlib",
        "outputId": "5f5491aa-819d-4c09-cfc9-067a12790fe5"
      },
      "outputs": [
        {
          "name": "stdout",
          "output_type": "stream",
          "text": [
            "Epoch 1/5\n",
            "9350/9350 [==============================] - 4276s 452ms/step - loss: 0.4208 - accuracy: 0.8342 - val_loss: 0.2884 - val_accuracy: 0.8891\n",
            "Epoch 2/5\n",
            "9350/9350 [==============================] - 4192s 448ms/step - loss: 0.2191 - accuracy: 0.9170 - val_loss: 0.1708 - val_accuracy: 0.9410\n",
            "Epoch 3/5\n",
            "9350/9350 [==============================] - 4192s 448ms/step - loss: 0.1173 - accuracy: 0.9578 - val_loss: 0.1347 - val_accuracy: 0.9571\n",
            "Epoch 4/5\n",
            "9350/9350 [==============================] - 4189s 448ms/step - loss: 0.0747 - accuracy: 0.9744 - val_loss: 0.1031 - val_accuracy: 0.9666\n",
            "Epoch 5/5\n",
            "9350/9350 [==============================] - 4188s 448ms/step - loss: 0.0537 - accuracy: 0.9815 - val_loss: 0.0986 - val_accuracy: 0.9713\n",
            "3000/3000 [==============================] - 604s 201ms/step\n"
          ]
        }
      ],
      "source": [
        "model.compile(\n",
        "    optimizer=optimizer,\n",
        "    loss=tf.keras.losses.SparseCategoricalCrossentropy(from_logits=True),\n",
        "    metrics=['accuracy'],\n",
        ")\n",
        "\n",
        "\n",
        "early_stopping = EarlyStopping(\n",
        "    monitor = 'val_accuracy',\n",
        "    patience=3,\n",
        "    restore_best_weights = True,\n",
        ")\n",
        "\n",
        "model.fit(\n",
        "    train_dataset.shuffle(10000).batch(16),\n",
        "    epochs=10,\n",
        "    batch_size=16,\n",
        "    validation_data = val_dataset.shuffle(10000).batch(16),\n",
        "    callbacks = [early_stopping],\n",
        ")\n",
        "\n",
        "predictions = model.predict(test_dataset.batch(16))\n"
      ]
    },
    {
      "cell_type": "code",
      "execution_count": null,
      "metadata": {
        "id": "aSqBP1iXlBJy"
      },
      "outputs": [],
      "source": [
        "# 예측 결과 처리 및 클래스에 매핑\n",
        "predicted_classes = np.argmax(predictions.logits, axis=1)\n",
        "\n",
        "# 제출 파일 생성\n",
        "submission = pd.DataFrame({\n",
        "    \"id\": testdata['id'],\n",
        "    \"sentiment\": predicted_classes\n",
        "})\n",
        "\n",
        "# 데이터프레임을 CSV 파일로 저장\n",
        "submission.to_csv('/content/roberta2.csv', index=False)"
      ]
    }
  ],
  "metadata": {
    "accelerator": "GPU",
    "colab": {
      "gpuType": "A100",
      "machine_shape": "hm",
      "provenance": []
    },
    "kernelspec": {
      "display_name": "Python 3",
      "name": "python3"
    },
    "language_info": {
      "name": "python"
    }
  },
  "nbformat": 4,
  "nbformat_minor": 0
}
